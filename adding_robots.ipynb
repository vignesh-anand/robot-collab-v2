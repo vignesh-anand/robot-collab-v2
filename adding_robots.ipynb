{
 "cells": [
  {
   "cell_type": "code",
   "execution_count": 1,
   "metadata": {},
   "outputs": [],
   "source": [
    "from lxml import etree\n",
    "from urdfpy import URDF,Link,Joint\n",
    "import numpy as np\n",
    "from scipy.spatial.transform import Rotation\n",
    "import yaml\n",
    "import os\n",
    "import copy\n",
    "import urdfpy"
   ]
  },
  {
   "cell_type": "code",
   "execution_count": 16,
   "metadata": {},
   "outputs": [],
   "source": [
    "ur51=robot = URDF.load('/home/vignesh/curobo/src/curobo/content/assets/robot/ur_description/ur5e.urdf')"
   ]
  },
  {
   "cell_type": "code",
   "execution_count": 17,
   "metadata": {},
   "outputs": [],
   "source": [
    "for link in ur51.links:\n",
    "    link.name=link.name+\"_1\""
   ]
  },
  {
   "cell_type": "code",
   "execution_count": 18,
   "metadata": {},
   "outputs": [
    {
     "name": "stdout",
     "output_type": "stream",
     "text": [
      "base_link_1\n",
      "base_link_inertia_1\n",
      "shoulder_link_1\n",
      "upper_arm_link_1\n",
      "forearm_link_1\n",
      "wrist_1_link_1\n",
      "wrist_2_link_1\n",
      "wrist_3_link_1\n",
      "base_1\n",
      "flange_1\n",
      "tool0_1\n"
     ]
    }
   ],
   "source": [
    "for link in ur51.links:\n",
    "    print(link.name)"
   ]
  },
  {
   "cell_type": "code",
   "execution_count": 19,
   "metadata": {},
   "outputs": [
    {
     "name": "stdout",
     "output_type": "stream",
     "text": [
      "base_link-base_link_inertia_1 connects base_link_1 to base_link_inertia_1\n",
      "shoulder_pan_joint_1 connects base_link_inertia_1 to shoulder_link_1\n",
      "shoulder_lift_joint_1 connects shoulder_link_1 to upper_arm_link_1\n",
      "elbow_joint_1 connects upper_arm_link_1 to forearm_link_1\n",
      "wrist_1_joint_1 connects forearm_link_1 to wrist_1_link_1\n",
      "wrist_2_joint_1 connects wrist_1_link_1 to wrist_2_link_1\n",
      "wrist_3_joint_1 connects wrist_2_link_1 to wrist_3_link_1\n",
      "base_link-base_fixed_joint_1 connects base_link_1 to base_1\n",
      "wrist_3-flange_1 connects wrist_3_link_1 to flange_1\n",
      "flange-tool0_1 connects flange_1 to tool0_1\n"
     ]
    }
   ],
   "source": [
    "for joint in ur51.joints:\n",
    "    joint.name=joint.name+\"_1\"\n",
    "    joint.parent=joint.parent+\"_1\"\n",
    "    joint.child=joint.child+\"_1\"\n",
    "for joint in ur51.joints:\n",
    "    print('{} connects {} to {}'.format(joint.name, joint.parent, joint.child))"
   ]
  },
  {
   "cell_type": "code",
   "execution_count": 21,
   "metadata": {},
   "outputs": [
    {
     "data": {
      "text/plain": [
       "'base_link_1'"
      ]
     },
     "execution_count": 21,
     "metadata": {},
     "output_type": "execute_result"
    }
   ],
   "source": [
    "ur51.base_link.name"
   ]
  },
  {
   "cell_type": "code",
   "execution_count": 22,
   "metadata": {},
   "outputs": [],
   "source": []
  },
  {
   "cell_type": "code",
   "execution_count": 27,
   "metadata": {},
   "outputs": [],
   "source": [
    "ur52=URDF.load('/home/vignesh/curobo/src/curobo/content/assets/robot/ur_description/ur5e.urdf')"
   ]
  },
  {
   "cell_type": "code",
   "execution_count": 28,
   "metadata": {},
   "outputs": [],
   "source": [
    "ur52=clean_robot(ur52,\"_2\")"
   ]
  },
  {
   "cell_type": "code",
   "execution_count": 29,
   "metadata": {},
   "outputs": [
    {
     "name": "stdout",
     "output_type": "stream",
     "text": [
      "base_link-base_link_inertia_2 connects base_link_2 to base_link_inertia_2\n",
      "shoulder_pan_joint_2 connects base_link_inertia_2 to shoulder_link_2\n",
      "shoulder_lift_joint_2 connects shoulder_link_2 to upper_arm_link_2\n",
      "elbow_joint_2 connects upper_arm_link_2 to forearm_link_2\n",
      "wrist_1_joint_2 connects forearm_link_2 to wrist_1_link_2\n",
      "wrist_2_joint_2 connects wrist_1_link_2 to wrist_2_link_2\n",
      "wrist_3_joint_2 connects wrist_2_link_2 to wrist_3_link_2\n",
      "base_link-base_fixed_joint_2 connects base_link_2 to base_2\n",
      "wrist_3-flange_2 connects wrist_3_link_2 to flange_2\n",
      "flange-tool0_2 connects flange_2 to tool0_2\n"
     ]
    }
   ],
   "source": [
    "for joint in ur52.joints:\n",
    "    print('{} connects {} to {}'.format(joint.name, joint.parent, joint.child))"
   ]
  },
  {
   "cell_type": "code",
   "execution_count": 6,
   "metadata": {},
   "outputs": [],
   "source": [
    "def clean_robot(urdf_object,append_string=\"_1\"):\n",
    "    for link in urdf_object.links:\n",
    "        link.name=link.name+append_string\n",
    "    for joint in urdf_object.joints:\n",
    "        joint.name=joint.name+append_string\n",
    "        joint.parent=joint.parent+append_string\n",
    "        joint.child=joint.child+append_string\n",
    "    return urdf_object\n",
    "def pose_list_to_pose_matrix(pose):\n",
    "    pose_matrix=np.eye(4)\n",
    "    rot=Rotation.from_quat(np.array(pose)[[4,5,6,3]])\n",
    "    \n",
    "    pose_matrix[0:3,3]=pose[0:3]\n",
    "    pose_matrix[0:3,0:3]=rot.as_matrix()\n",
    "    return pose_matrix\n",
    "def add_robots_urdf(urdf_list,pose_list,name):\n",
    "    assert len(urdf_list)==len(pose_list),'inputs should be of same length'\n",
    "    base_link=Link('base_fixture_link',None,visuals=[urdfpy.Visual(urdfpy.Geometry(sphere=urdfpy.Sphere(0.1)))],collisions=None)\n",
    "    new_links=[base_link]\n",
    "    new_joints=[]\n",
    "    for i in range(len(urdf_list)):\n",
    "        robot_pose=pose_list[i]\n",
    "        urdf_list[i]=clean_robot(urdf_list[i],\"_\"+str(i+1))\n",
    "        new_links+=urdf_list[i].links\n",
    "        new_joints+=[Joint(name=base_link.name+\"_j_\"+urdf_list[i].base_link.name,joint_type='fixed',parent=base_link.name,child=urdf_list[i].base_link.name,origin=list(pose_list_to_pose_matrix(robot_pose)))]\n",
    "        new_joints+=urdf_list[i].joints\n",
    "    #for links in new_links:\n",
    "        #print(link.name)\n",
    "    #kinematics={}\n",
    "    return URDF(name,links=new_links,joints=new_joints)\n",
    "#def add_robots(config_list,urdf_path):\n",
    "    \n",
    "    "
   ]
  },
  {
   "cell_type": "code",
   "execution_count": 3,
   "metadata": {},
   "outputs": [],
   "source": [
    "robot_list=[URDF.load('/home/vignesh/curobo/src/curobo/content/assets/robot/ur_description/ur5e_new.urdf'),URDF.load('/home/vignesh/curobo/src/curobo/content/assets/robot/ur_description/ur5e_new.urdf')]\n",
    "pose_list=[[-0.75,-0.5,0,1,0,0,0],[0.75,0.5,0,0,0,0,1]]\n",
    "#clean_robot(robot_list[0],'_'+str(2)).joints"
   ]
  },
  {
   "cell_type": "code",
   "execution_count": 7,
   "metadata": {},
   "outputs": [],
   "source": [
    "final=add_robots_urdf(robot_list,pose_list,name='dual')"
   ]
  },
  {
   "cell_type": "code",
   "execution_count": 8,
   "metadata": {},
   "outputs": [],
   "source": [
    "final.show()"
   ]
  },
  {
   "cell_type": "code",
   "execution_count": 8,
   "metadata": {},
   "outputs": [
    {
     "data": {
      "text/plain": [
       "dict_keys(['robot_cfg'])"
      ]
     },
     "execution_count": 8,
     "metadata": {},
     "output_type": "execute_result"
    }
   ],
   "source": [
    "with open('/home/vignesh/curobo/src/curobo/content/configs/robot/ur5e.yml', 'r') as f:\n",
    "    robot = yaml.load(f, Loader=yaml.SafeLoader)\n",
    "robot.keys()"
   ]
  },
  {
   "cell_type": "code",
   "execution_count": 9,
   "metadata": {},
   "outputs": [],
   "source": [
    "robot=robot['robot_cfg']['kinematics']"
   ]
  },
  {
   "cell_type": "code",
   "execution_count": 11,
   "metadata": {},
   "outputs": [
    {
     "name": "stdout",
     "output_type": "stream",
     "text": [
      "None\n"
     ]
    }
   ],
   "source": [
    "print(robot['link_names'])"
   ]
  },
  {
   "cell_type": "code",
   "execution_count": 7,
   "metadata": {},
   "outputs": [
    {
     "ename": "TypeError",
     "evalue": "unhashable type: 'list'",
     "output_type": "error",
     "traceback": [
      "\u001b[0;31m---------------------------------------------------------------------------\u001b[0m",
      "\u001b[0;31mTypeError\u001b[0m                                 Traceback (most recent call last)",
      "Cell \u001b[0;32mIn[7], line 2\u001b[0m\n\u001b[1;32m      1\u001b[0m new_spheres\u001b[38;5;241m=\u001b[39m{key\u001b[38;5;241m+\u001b[39m\u001b[38;5;124m\"\u001b[39m\u001b[38;5;124m_1\u001b[39m\u001b[38;5;124m\"\u001b[39m:value \u001b[38;5;28;01mfor\u001b[39;00m key,value \u001b[38;5;129;01min\u001b[39;00m robot[\u001b[38;5;124m'\u001b[39m\u001b[38;5;124mcollision_spheres\u001b[39m\u001b[38;5;124m'\u001b[39m]\u001b[38;5;241m.\u001b[39mitems()}\n\u001b[0;32m----> 2\u001b[0m \u001b[43mnew_spheres\u001b[49m\u001b[43m[\u001b[49m\u001b[43m[\u001b[49m\u001b[38;5;124;43m'\u001b[39;49m\u001b[38;5;124;43mshoulder_link_1\u001b[39;49m\u001b[38;5;124;43m'\u001b[39;49m\u001b[43m,\u001b[49m\u001b[38;5;124;43m'\u001b[39;49m\u001b[38;5;124;43mupper_arm_link_1\u001b[39;49m\u001b[38;5;124;43m'\u001b[39;49m\u001b[43m]\u001b[49m\u001b[43m]\u001b[49m\n",
      "\u001b[0;31mTypeError\u001b[0m: unhashable type: 'list'"
     ]
    }
   ],
   "source": [
    "new_spheres={key+\"_1\":value for key,value in robot['collision_spheres'].items()}\n",
    "new_spheres[['shoulder_link_1','upper_arm_link_1']]"
   ]
  },
  {
   "cell_type": "code",
   "execution_count": 2,
   "metadata": {},
   "outputs": [],
   "source": [
    "import torch\n",
    "import curobo\n",
    "from curobo.types.math import Pose\n",
    "from curobo.types.base import TensorDeviceType\n",
    "from curobo.types.robot import JointState\n",
    "from curobo.wrap.reacher.motion_gen import MotionGen, MotionGenConfig, MotionGenPlanConfig\n",
    "from curobo.geom.sdf.world import CollisionCheckerType\n",
    "from curobo.geom.types import WorldConfig, Cuboid, Mesh, Capsule, Cylinder, Sphere\n",
    "from curobo.util_file import get_assets_path, join_path\n",
    "%reload_ext autoreload"
   ]
  },
  {
   "cell_type": "code",
   "execution_count": 3,
   "metadata": {},
   "outputs": [],
   "source": [
    "motion_gen_config_1 = MotionGenConfig.load_from_robot_config(\n",
    "    \"ur5e_new.yml\",\n",
    "    {'cuboid':{'table_collision': {'dims': [3.2, 0.8, 0.1],\n",
    "   'pose': np.array([-0.0,  0.8, -0.01,  1.  , -0.  , -0.  , -0.  ])}}},\n",
    "    interpolation_dt=0.05,\n",
    "    collision_checker_type=CollisionCheckerType.PRIMITIVE,collision_activation_distance=0.025,trajopt_dt=0.25,\n",
    ")\n",
    "motion_gen1 = MotionGen(motion_gen_config_1)\n",
    "motion_gen1.warmup(parallel_finetune=True)"
   ]
  },
  {
   "cell_type": "code",
   "execution_count": 53,
   "metadata": {},
   "outputs": [],
   "source": [
    "def combine_yaml_kinematics(config_list,combined_urdf_path,config_path):\n",
    "    kinematic_list=[]\n",
    "    for config in config_list:\n",
    "        kinematic_list.append(config['robot_cfg']['kinematics'])\n",
    "    new_kinematics={'urdf_path':combined_urdf_path,'asset_root_path':'/robot','base_link':'base_fixture_link'}\n",
    "    #new_lock_joints={}\n",
    "    collison_sphere={} #\n",
    "    ee_link=kinematic_list[0]['ee_link']+\"_1\"\n",
    "    links_names=[]#\n",
    "    lock_joints={}#\n",
    "    extra_links={}#\n",
    "    collison_sphere_buffer=0#\n",
    "    extra_collison_spheres={}#\n",
    "    self_collison_ignore={}#\n",
    "    self_collison_buffer={}#\n",
    "    mesh_link_names=[]#\n",
    "    collision_link_names=[]#\n",
    "    use_global_cumul=False#\n",
    "    cspace={'joint_names':[],'retract_config':[],'null_space_weight':[],'cspace_distance_weight':[],'max_jerk':float('inf'),'max_acceleration':float('inf')}\n",
    "    for i in range(len(kinematic_list)):\n",
    "        if isinstance(kinematic_list[i]['collision_spheres'],str):\n",
    "            with open(os.path.join(config_path,'spheres'), 'r') as f:\n",
    "                spheres_i = yaml.load(f, Loader=yaml.SafeLoader)['collision_spheres']\n",
    "                \n",
    "        else:\n",
    "            spheres_i=kinematic_list[i]['collision_spheres']\n",
    "        spheres_i={key+\"_\"+str(i+1):value for key,value in spheres_i.items()}\n",
    "        collison_sphere.update(spheres_i)\n",
    "        links_names.append(kinematic_list[i]['ee_link']+'_'+str(i+1))\n",
    "        if kinematic_list[i]['lock_joints'] is not None:\n",
    "            lock_joints.update({key+\"_\"+str(i+1):value for key,value in kinematic_list[i]['collision_spheres'].items()})\n",
    "        if kinematic_list[i]['extra_links'] is not None:\n",
    "            for k,v in kinematic_list[i]['extra_links'].items():\n",
    "                v['parent_link_name']+=\"_\"+str(i+1)\n",
    "                v['link_name']+=\"_\"+str(i+1)\n",
    "                v['joint_name']+=\"_\"+str(i+1)\n",
    "                extra_links[k+\"_\"+str(i+1)]=v\n",
    "        collison_sphere_buffer=max(collison_sphere_buffer,kinematic_list[i]['collision_sphere_buffer'])\n",
    "        if kinematic_list[i]['extra_collision_spheres'] is not None:\n",
    "            extra_collison_spheres.update({key+\"_\"+str(i+1):value for key,value in kinematic_list[i]['extra_collision_spheres'].items()})\n",
    "        self_collison_ignore.update({key+\"_\"+str(i+1):[vi+\"_\"+str(i+1) for vi in value] for key,value in kinematic_list[i]['self_collision_ignore'].items()})\n",
    "        self_collison_buffer.update({key+\"_\"+str(i+1):value for key,value in kinematic_list[i]['self_collision_buffer'].items()})\n",
    "        mesh_link_names+=[name+\"_\"+str(i+1) for name in kinematic_list[i]['mesh_link_names']]\n",
    "        collision_link_names+=[name+\"_\"+str(i+1) for name in kinematic_list[i]['collision_link_names']]\n",
    "        use_global_cumul=(use_global_cumul or kinematic_list[i]['use_global_cumul'])\n",
    "        cspace['joint_names']+=[name+\"_\"+str(i+1) for name in kinematic_list[i]['cspace']['joint_names']]\n",
    "        cspace['retract_config']+=kinematic_list[i]['cspace']['retract_config']\n",
    "        cspace['null_space_weight']+=kinematic_list[i]['cspace']['null_space_weight']\n",
    "        cspace['cspace_distance_weight']+=  kinematic_list[i]['cspace']['cspace_distance_weight']\n",
    "        cspace['max_jerk']=min(cspace['max_jerk'],kinematic_list[i]['cspace']['max_jerk'])\n",
    "        cspace['max_acceleration']=min(cspace['max_acceleration'],kinematic_list[i]['cspace']['max_acceleration'])\n",
    "    new_kinematics['collision_spheres']=collison_sphere\n",
    "    new_kinematics['ee_link']=ee_link\n",
    "    new_kinematics['link_names']=links_names\n",
    "    new_kinematics['lock_joints']=lock_joints\n",
    "    new_kinematics['extra_links']=extra_links\n",
    "    new_kinematics['collision_sphere_buffer']=collison_sphere_buffer\n",
    "    new_kinematics['extra_collision_spheres']=extra_collison_spheres\n",
    "    new_kinematics['self_collision_ignore']=self_collison_ignore\n",
    "    new_kinematics['self_collision_buffer']=self_collison_buffer\n",
    "    new_kinematics['mesh_link_names']=mesh_link_names\n",
    "    new_kinematics['collision_link_names']=collision_link_names\n",
    "    new_kinematics['use_global_cumul']=use_global_cumul\n",
    "    new_kinematics['cspace']=cspace\n",
    "    return {'robot_cfg':{'kinematics':new_kinematics}}\n",
    "        \n",
    "        \n",
    "        \n",
    "        \n",
    "        \n",
    "            \n",
    "            \n",
    "        \n",
    "        \n",
    "    "
   ]
  },
  {
   "cell_type": "code",
   "execution_count": 54,
   "metadata": {},
   "outputs": [
    {
     "data": {
      "text/plain": [
       "dict_keys(['robot_cfg'])"
      ]
     },
     "execution_count": 54,
     "metadata": {},
     "output_type": "execute_result"
    }
   ],
   "source": [
    "with open('/home/vignesh/curobo/src/curobo/content/configs/robot/ur5e_new.yml', 'r') as f:\n",
    "    ur5e_config = yaml.load(f, Loader=yaml.SafeLoader)\n",
    "ur5e_config.keys()"
   ]
  },
  {
   "cell_type": "code",
   "execution_count": 55,
   "metadata": {},
   "outputs": [],
   "source": [
    "robot_list=[URDF.load('/home/vignesh/curobo/src/curobo/content/assets/robot/ur_description/ur5e_new.urdf'),URDF.load('/home/vignesh/curobo/src/curobo/content/assets/robot/ur_description/ur5e_new.urdf')]\n",
    "pose_list=[[-0.75,0,0,1,0,0,0],[0.75,0,0,0.7071068,0,0, 0.7071068]]\n",
    "final=add_robots_urdf(robot_list,pose_list,name='dual_ur5e_new')\n",
    "final.save('/home/vignesh/curobo/src/curobo/content/assets/robot/ur_description/dual_ur5e_new.urdf')"
   ]
  },
  {
   "cell_type": "code",
   "execution_count": 56,
   "metadata": {},
   "outputs": [],
   "source": [
    "ur51_config=copy.deepcopy(ur5e_config)\n",
    "ur52_config=copy.deepcopy(ur5e_config)\n",
    "new_yaml=combine_yaml_kinematics([ur51_config,ur52_config],'robot/ur_description/dual_ur5e_new.urdf','~/curobo/src/curobo/content/configs/robot')\n"
   ]
  },
  {
   "cell_type": "code",
   "execution_count": 48,
   "metadata": {},
   "outputs": [],
   "source": [
    "with open('/home/vignesh/curobo/src/curobo/content/configs/robot/dual_ur5e_new.yml', 'w') as outfile:\n",
    "    yaml.dump(new_yaml, outfile, default_flow_style=False)"
   ]
  },
  {
   "cell_type": "code",
   "execution_count": 47,
   "metadata": {},
   "outputs": [
    {
     "data": {
      "text/plain": [
       "True"
      ]
     },
     "execution_count": 47,
     "metadata": {},
     "output_type": "execute_result"
    }
   ],
   "source": [
    "os.path.exists('/home/vignesh/curobo/src/curobo/content/configs')"
   ]
  }
 ],
 "metadata": {
  "kernelspec": {
   "display_name": "roco",
   "language": "python",
   "name": "python3"
  },
  "language_info": {
   "codemirror_mode": {
    "name": "ipython",
    "version": 3
   },
   "file_extension": ".py",
   "mimetype": "text/x-python",
   "name": "python",
   "nbconvert_exporter": "python",
   "pygments_lexer": "ipython3",
   "version": "3.8.19"
  }
 },
 "nbformat": 4,
 "nbformat_minor": 2
}
